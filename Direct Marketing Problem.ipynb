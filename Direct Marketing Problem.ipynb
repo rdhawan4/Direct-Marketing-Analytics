{
 "cells": [
  {
   "cell_type": "markdown",
   "id": "194e3c8e",
   "metadata": {},
   "source": [
    "# Direct Marketing Problem <a id=\"goback\"> </a>\n",
    "\n",
    "![title](marketing.png)\n",
    "\n",
    "**Abstract:** <br>\n",
    "There are two main approaches to enterprise marketing: (1) mass campaigns, targeting several general customers, or (2) directed marketing, targeting a specific set of customers. In this competitive world, the mass campaign strategy is not very productive. Nevertheless, there are challenges to directed marketing: finding potential customers is not very easy, although data mining (DM) techniques are providing some assistance in that regard.\n",
    "The given dataset is from a Portuguese banking institution and was used in their direct marketing campaign to sell term deposits to their customers. You can think of it as cross-selling. The campaign was mostly based on phone calls and the dataset stores general information about customers, details of contacts made with them and the output variable y which indicates whether a term deposit was subscribed to by the customer or not. There are two datasets –\n",
    "1. Portuguese Bank Data – TRAIN\n",
    "2. Portuguese Bank Data - TEST\n",
    "\n",
    "#### References:  <br />\n",
    "- [SckitLearn Library](https://scikit-learn.org/stable/index.html) <br />\n",
    "- [Pandas Library : DataFrame](https://pandas.pydata.org/docs/reference/api/pandas.DataFrame.html) <br />\n",
    "\n",
    "**Index**\n",
    "- [Data Import](#importdata)\n",
    "- [Data Cleaning](#cleandata)\n",
    "- [Dealing with Categorical Data: OneHotEncoder](#encoding)\n",
    "- [Model Development](#model)\n",
    "- [Evaluating Default Models](#evaluate)\n",
    "- [Hyperparameter Tuning](#hyper)\n",
    "    - [Grid Search CV ](#grid)\n",
    "    - [Random Search CV](#random)\n",
    "- [Model Development with Grid/Random Search Parameters](#modeldev)"
   ]
  },
  {
   "cell_type": "code",
   "execution_count": 2,
   "id": "aa230cae",
   "metadata": {},
   "outputs": [],
   "source": [
    "# Libraries\n",
    "# Data Manipulation\n",
    "import numpy as np\n",
    "import pandas as pd\n",
    "\n",
    "#Machine Learning\n",
    "import sklearn\n",
    "from sklearn import metrics\n",
    "from sklearn.model_selection import train_test_split,RandomizedSearchCV,GridSearchCV,cross_val_score\n",
    "from sklearn.metrics import accuracy_score,confusion_matrix,classification_report\n",
    "from sklearn.tree import DecisionTreeClassifier\n",
    "from sklearn.ensemble import GradientBoostingClassifier,RandomForestClassifier\n",
    "from sklearn import preprocessing\n",
    "from sklearn.preprocessing import OneHotEncoder\n",
    "\n",
    "# Visualization\n",
    "import matplotlib.pyplot as plt \n",
    "import plotly.express as px\n",
    "\n",
    "# To remove warnings \n",
    "import warnings\n",
    "warnings.filterwarnings(\"ignore\")\n",
    "\n",
    "# Function to evaluate ML Model\n",
    "def evaluate_model(model,XTrain,YTrain,XTest,YTest):\n",
    "    #Training Prediction Accuracy\n",
    "    TrainPred=model.predict(XTrain)\n",
    "    Training_Acc_Score=metrics.accuracy_score(YTrain,TrainPred)\n",
    "    \n",
    "    #Testing Prediction Accuracy\n",
    "    PredY=model.predict(XTest)\n",
    "    Testing_Acc_Score=metrics.accuracy_score(YTest,PredY)\n",
    "    Testing_Class_Report=metrics.classification_report(YTest,PredY)\n",
    "    Testing_Confusion_Matrix=metrics.confusion_matrix(YTest,PredY)\n",
    "    \n",
    "    print(\"Training Data Accuracy:\",Training_Acc_Score,)\n",
    "    print()\n",
    "    print(\"Testing Data Accuracy:\\n\",Testing_Acc_Score,\n",
    "         \"\\nTesting_Class_Report:\",Testing_Class_Report,\n",
    "         \"\\nTesting_Confusion_Matrix:\\n\",Testing_Confusion_Matrix)"
   ]
  },
  {
   "cell_type": "markdown",
   "id": "aa541d5d",
   "metadata": {},
   "source": [
    "## Import Datasets <a id=\"importdata\">"
   ]
  },
  {
   "cell_type": "code",
   "execution_count": 3,
   "id": "99200cfd",
   "metadata": {},
   "outputs": [
    {
     "data": {
      "text/html": [
       "<div>\n",
       "<style scoped>\n",
       "    .dataframe tbody tr th:only-of-type {\n",
       "        vertical-align: middle;\n",
       "    }\n",
       "\n",
       "    .dataframe tbody tr th {\n",
       "        vertical-align: top;\n",
       "    }\n",
       "\n",
       "    .dataframe thead th {\n",
       "        text-align: right;\n",
       "    }\n",
       "</style>\n",
       "<table border=\"1\" class=\"dataframe\">\n",
       "  <thead>\n",
       "    <tr style=\"text-align: right;\">\n",
       "      <th></th>\n",
       "      <th>age</th>\n",
       "      <th>job</th>\n",
       "      <th>marital</th>\n",
       "      <th>education</th>\n",
       "      <th>default</th>\n",
       "      <th>balance</th>\n",
       "      <th>housing</th>\n",
       "      <th>loan</th>\n",
       "      <th>contact</th>\n",
       "      <th>day</th>\n",
       "      <th>month</th>\n",
       "      <th>duration</th>\n",
       "      <th>campaign</th>\n",
       "      <th>pdays</th>\n",
       "      <th>previous</th>\n",
       "      <th>poutcome</th>\n",
       "      <th>y</th>\n",
       "    </tr>\n",
       "  </thead>\n",
       "  <tbody>\n",
       "    <tr>\n",
       "      <th>0</th>\n",
       "      <td>30</td>\n",
       "      <td>unemployed</td>\n",
       "      <td>married</td>\n",
       "      <td>primary</td>\n",
       "      <td>no</td>\n",
       "      <td>1787</td>\n",
       "      <td>no</td>\n",
       "      <td>no</td>\n",
       "      <td>cellular</td>\n",
       "      <td>19</td>\n",
       "      <td>oct</td>\n",
       "      <td>79</td>\n",
       "      <td>1</td>\n",
       "      <td>-1</td>\n",
       "      <td>0</td>\n",
       "      <td>unknown</td>\n",
       "      <td>no</td>\n",
       "    </tr>\n",
       "    <tr>\n",
       "      <th>1</th>\n",
       "      <td>33</td>\n",
       "      <td>services</td>\n",
       "      <td>married</td>\n",
       "      <td>secondary</td>\n",
       "      <td>no</td>\n",
       "      <td>4789</td>\n",
       "      <td>yes</td>\n",
       "      <td>yes</td>\n",
       "      <td>cellular</td>\n",
       "      <td>11</td>\n",
       "      <td>may</td>\n",
       "      <td>220</td>\n",
       "      <td>1</td>\n",
       "      <td>339</td>\n",
       "      <td>4</td>\n",
       "      <td>failure</td>\n",
       "      <td>no</td>\n",
       "    </tr>\n",
       "    <tr>\n",
       "      <th>2</th>\n",
       "      <td>35</td>\n",
       "      <td>management</td>\n",
       "      <td>single</td>\n",
       "      <td>tertiary</td>\n",
       "      <td>no</td>\n",
       "      <td>1350</td>\n",
       "      <td>yes</td>\n",
       "      <td>no</td>\n",
       "      <td>cellular</td>\n",
       "      <td>16</td>\n",
       "      <td>apr</td>\n",
       "      <td>185</td>\n",
       "      <td>1</td>\n",
       "      <td>330</td>\n",
       "      <td>1</td>\n",
       "      <td>failure</td>\n",
       "      <td>no</td>\n",
       "    </tr>\n",
       "    <tr>\n",
       "      <th>3</th>\n",
       "      <td>30</td>\n",
       "      <td>management</td>\n",
       "      <td>married</td>\n",
       "      <td>tertiary</td>\n",
       "      <td>no</td>\n",
       "      <td>1476</td>\n",
       "      <td>yes</td>\n",
       "      <td>yes</td>\n",
       "      <td>unknown</td>\n",
       "      <td>3</td>\n",
       "      <td>jun</td>\n",
       "      <td>199</td>\n",
       "      <td>4</td>\n",
       "      <td>-1</td>\n",
       "      <td>0</td>\n",
       "      <td>unknown</td>\n",
       "      <td>no</td>\n",
       "    </tr>\n",
       "    <tr>\n",
       "      <th>4</th>\n",
       "      <td>59</td>\n",
       "      <td>blue-collar</td>\n",
       "      <td>married</td>\n",
       "      <td>secondary</td>\n",
       "      <td>no</td>\n",
       "      <td>0</td>\n",
       "      <td>yes</td>\n",
       "      <td>no</td>\n",
       "      <td>unknown</td>\n",
       "      <td>5</td>\n",
       "      <td>may</td>\n",
       "      <td>226</td>\n",
       "      <td>1</td>\n",
       "      <td>-1</td>\n",
       "      <td>0</td>\n",
       "      <td>unknown</td>\n",
       "      <td>no</td>\n",
       "    </tr>\n",
       "  </tbody>\n",
       "</table>\n",
       "</div>"
      ],
      "text/plain": [
       "   age          job  marital  education default  balance housing loan  \\\n",
       "0   30   unemployed  married    primary      no     1787      no   no   \n",
       "1   33     services  married  secondary      no     4789     yes  yes   \n",
       "2   35   management   single   tertiary      no     1350     yes   no   \n",
       "3   30   management  married   tertiary      no     1476     yes  yes   \n",
       "4   59  blue-collar  married  secondary      no        0     yes   no   \n",
       "\n",
       "    contact  day month  duration  campaign  pdays  previous poutcome   y  \n",
       "0  cellular   19   oct        79         1     -1         0  unknown  no  \n",
       "1  cellular   11   may       220         1    339         4  failure  no  \n",
       "2  cellular   16   apr       185         1    330         1  failure  no  \n",
       "3   unknown    3   jun       199         4     -1         0  unknown  no  \n",
       "4   unknown    5   may       226         1     -1         0  unknown  no  "
      ]
     },
     "execution_count": 3,
     "metadata": {},
     "output_type": "execute_result"
    }
   ],
   "source": [
    "Train_csv_loc=\"Data/Portugese Bank Data - TRAIN.csv\"\n",
    "Test_csv_loc=\"Data/Portugese Bank Data - TEST.csv\"\n",
    "\n",
    "Train_df=pd.read_csv(Train_csv_loc)\n",
    "Test_df=pd.read_csv(Test_csv_loc)\n",
    "\n",
    "Train_df.head()"
   ]
  },
  {
   "cell_type": "code",
   "execution_count": 4,
   "id": "823cbcb4",
   "metadata": {},
   "outputs": [
    {
     "data": {
      "text/html": [
       "<div>\n",
       "<style scoped>\n",
       "    .dataframe tbody tr th:only-of-type {\n",
       "        vertical-align: middle;\n",
       "    }\n",
       "\n",
       "    .dataframe tbody tr th {\n",
       "        vertical-align: top;\n",
       "    }\n",
       "\n",
       "    .dataframe thead th {\n",
       "        text-align: right;\n",
       "    }\n",
       "</style>\n",
       "<table border=\"1\" class=\"dataframe\">\n",
       "  <thead>\n",
       "    <tr style=\"text-align: right;\">\n",
       "      <th></th>\n",
       "      <th>age</th>\n",
       "      <th>job</th>\n",
       "      <th>marital</th>\n",
       "      <th>education</th>\n",
       "      <th>default</th>\n",
       "      <th>balance</th>\n",
       "      <th>housing</th>\n",
       "      <th>loan</th>\n",
       "      <th>contact</th>\n",
       "      <th>day</th>\n",
       "      <th>month</th>\n",
       "      <th>duration</th>\n",
       "      <th>campaign</th>\n",
       "      <th>pdays</th>\n",
       "      <th>previous</th>\n",
       "      <th>poutcome</th>\n",
       "      <th>y</th>\n",
       "    </tr>\n",
       "  </thead>\n",
       "  <tbody>\n",
       "    <tr>\n",
       "      <th>0</th>\n",
       "      <td>58</td>\n",
       "      <td>management</td>\n",
       "      <td>married</td>\n",
       "      <td>tertiary</td>\n",
       "      <td>no</td>\n",
       "      <td>2143</td>\n",
       "      <td>yes</td>\n",
       "      <td>no</td>\n",
       "      <td>unknown</td>\n",
       "      <td>5</td>\n",
       "      <td>may</td>\n",
       "      <td>261</td>\n",
       "      <td>1</td>\n",
       "      <td>-1</td>\n",
       "      <td>0</td>\n",
       "      <td>unknown</td>\n",
       "      <td>no</td>\n",
       "    </tr>\n",
       "    <tr>\n",
       "      <th>1</th>\n",
       "      <td>44</td>\n",
       "      <td>technician</td>\n",
       "      <td>single</td>\n",
       "      <td>secondary</td>\n",
       "      <td>no</td>\n",
       "      <td>29</td>\n",
       "      <td>yes</td>\n",
       "      <td>no</td>\n",
       "      <td>unknown</td>\n",
       "      <td>5</td>\n",
       "      <td>may</td>\n",
       "      <td>151</td>\n",
       "      <td>1</td>\n",
       "      <td>-1</td>\n",
       "      <td>0</td>\n",
       "      <td>unknown</td>\n",
       "      <td>no</td>\n",
       "    </tr>\n",
       "    <tr>\n",
       "      <th>2</th>\n",
       "      <td>33</td>\n",
       "      <td>entrepreneur</td>\n",
       "      <td>married</td>\n",
       "      <td>secondary</td>\n",
       "      <td>no</td>\n",
       "      <td>2</td>\n",
       "      <td>yes</td>\n",
       "      <td>yes</td>\n",
       "      <td>unknown</td>\n",
       "      <td>5</td>\n",
       "      <td>may</td>\n",
       "      <td>76</td>\n",
       "      <td>1</td>\n",
       "      <td>-1</td>\n",
       "      <td>0</td>\n",
       "      <td>unknown</td>\n",
       "      <td>no</td>\n",
       "    </tr>\n",
       "    <tr>\n",
       "      <th>3</th>\n",
       "      <td>47</td>\n",
       "      <td>blue-collar</td>\n",
       "      <td>married</td>\n",
       "      <td>unknown</td>\n",
       "      <td>no</td>\n",
       "      <td>1506</td>\n",
       "      <td>yes</td>\n",
       "      <td>no</td>\n",
       "      <td>unknown</td>\n",
       "      <td>5</td>\n",
       "      <td>may</td>\n",
       "      <td>92</td>\n",
       "      <td>1</td>\n",
       "      <td>-1</td>\n",
       "      <td>0</td>\n",
       "      <td>unknown</td>\n",
       "      <td>no</td>\n",
       "    </tr>\n",
       "    <tr>\n",
       "      <th>4</th>\n",
       "      <td>33</td>\n",
       "      <td>unknown</td>\n",
       "      <td>single</td>\n",
       "      <td>unknown</td>\n",
       "      <td>no</td>\n",
       "      <td>1</td>\n",
       "      <td>no</td>\n",
       "      <td>no</td>\n",
       "      <td>unknown</td>\n",
       "      <td>5</td>\n",
       "      <td>may</td>\n",
       "      <td>198</td>\n",
       "      <td>1</td>\n",
       "      <td>-1</td>\n",
       "      <td>0</td>\n",
       "      <td>unknown</td>\n",
       "      <td>no</td>\n",
       "    </tr>\n",
       "  </tbody>\n",
       "</table>\n",
       "</div>"
      ],
      "text/plain": [
       "   age           job  marital  education default  balance housing loan  \\\n",
       "0   58    management  married   tertiary      no     2143     yes   no   \n",
       "1   44    technician   single  secondary      no       29     yes   no   \n",
       "2   33  entrepreneur  married  secondary      no        2     yes  yes   \n",
       "3   47   blue-collar  married    unknown      no     1506     yes   no   \n",
       "4   33       unknown   single    unknown      no        1      no   no   \n",
       "\n",
       "   contact  day month  duration  campaign  pdays  previous poutcome   y  \n",
       "0  unknown    5   may       261         1     -1         0  unknown  no  \n",
       "1  unknown    5   may       151         1     -1         0  unknown  no  \n",
       "2  unknown    5   may        76         1     -1         0  unknown  no  \n",
       "3  unknown    5   may        92         1     -1         0  unknown  no  \n",
       "4  unknown    5   may       198         1     -1         0  unknown  no  "
      ]
     },
     "execution_count": 4,
     "metadata": {},
     "output_type": "execute_result"
    }
   ],
   "source": [
    "Test_df.head()"
   ]
  },
  {
   "cell_type": "code",
   "execution_count": 5,
   "id": "9925a9de",
   "metadata": {},
   "outputs": [
    {
     "name": "stdout",
     "output_type": "stream",
     "text": [
      "Size of Training data: (4521, 17) \n",
      "Size of Testing data: (45211, 17)\n"
     ]
    }
   ],
   "source": [
    "print(\"Size of Training data:\",Train_df.shape,\"\\n\"\n",
    "      \"Size of Testing data:\",Test_df.shape)"
   ]
  },
  {
   "cell_type": "code",
   "execution_count": 6,
   "id": "61483530",
   "metadata": {},
   "outputs": [
    {
     "name": "stdout",
     "output_type": "stream",
     "text": [
      "<class 'pandas.core.frame.DataFrame'>\n",
      "RangeIndex: 4521 entries, 0 to 4520\n",
      "Data columns (total 17 columns):\n",
      " #   Column     Non-Null Count  Dtype \n",
      "---  ------     --------------  ----- \n",
      " 0   age        4521 non-null   int64 \n",
      " 1   job        4521 non-null   object\n",
      " 2   marital    4521 non-null   object\n",
      " 3   education  4521 non-null   object\n",
      " 4   default    4521 non-null   object\n",
      " 5   balance    4521 non-null   int64 \n",
      " 6   housing    4521 non-null   object\n",
      " 7   loan       4521 non-null   object\n",
      " 8   contact    4521 non-null   object\n",
      " 9   day        4521 non-null   int64 \n",
      " 10  month      4521 non-null   object\n",
      " 11  duration   4521 non-null   int64 \n",
      " 12  campaign   4521 non-null   int64 \n",
      " 13  pdays      4521 non-null   int64 \n",
      " 14  previous   4521 non-null   int64 \n",
      " 15  poutcome   4521 non-null   object\n",
      " 16  y          4521 non-null   object\n",
      "dtypes: int64(7), object(10)\n",
      "memory usage: 600.6+ KB\n"
     ]
    }
   ],
   "source": [
    "Train_df.info()\n",
    "# Test_df.info()"
   ]
  },
  {
   "cell_type": "code",
   "execution_count": 7,
   "id": "fee50d4b",
   "metadata": {},
   "outputs": [
    {
     "data": {
      "text/html": [
       "<div>\n",
       "<style scoped>\n",
       "    .dataframe tbody tr th:only-of-type {\n",
       "        vertical-align: middle;\n",
       "    }\n",
       "\n",
       "    .dataframe tbody tr th {\n",
       "        vertical-align: top;\n",
       "    }\n",
       "\n",
       "    .dataframe thead th {\n",
       "        text-align: right;\n",
       "    }\n",
       "</style>\n",
       "<table border=\"1\" class=\"dataframe\">\n",
       "  <thead>\n",
       "    <tr style=\"text-align: right;\">\n",
       "      <th></th>\n",
       "      <th>age</th>\n",
       "      <th>balance</th>\n",
       "      <th>day</th>\n",
       "      <th>duration</th>\n",
       "      <th>campaign</th>\n",
       "      <th>pdays</th>\n",
       "      <th>previous</th>\n",
       "    </tr>\n",
       "  </thead>\n",
       "  <tbody>\n",
       "    <tr>\n",
       "      <th>count</th>\n",
       "      <td>4521.000000</td>\n",
       "      <td>4521.000000</td>\n",
       "      <td>4521.000000</td>\n",
       "      <td>4521.000000</td>\n",
       "      <td>4521.000000</td>\n",
       "      <td>4521.000000</td>\n",
       "      <td>4521.000000</td>\n",
       "    </tr>\n",
       "    <tr>\n",
       "      <th>mean</th>\n",
       "      <td>41.170095</td>\n",
       "      <td>1422.657819</td>\n",
       "      <td>15.915284</td>\n",
       "      <td>263.961292</td>\n",
       "      <td>2.793630</td>\n",
       "      <td>39.766645</td>\n",
       "      <td>0.542579</td>\n",
       "    </tr>\n",
       "    <tr>\n",
       "      <th>std</th>\n",
       "      <td>10.576211</td>\n",
       "      <td>3009.638142</td>\n",
       "      <td>8.247667</td>\n",
       "      <td>259.856633</td>\n",
       "      <td>3.109807</td>\n",
       "      <td>100.121124</td>\n",
       "      <td>1.693562</td>\n",
       "    </tr>\n",
       "    <tr>\n",
       "      <th>min</th>\n",
       "      <td>19.000000</td>\n",
       "      <td>-3313.000000</td>\n",
       "      <td>1.000000</td>\n",
       "      <td>4.000000</td>\n",
       "      <td>1.000000</td>\n",
       "      <td>-1.000000</td>\n",
       "      <td>0.000000</td>\n",
       "    </tr>\n",
       "    <tr>\n",
       "      <th>25%</th>\n",
       "      <td>33.000000</td>\n",
       "      <td>69.000000</td>\n",
       "      <td>9.000000</td>\n",
       "      <td>104.000000</td>\n",
       "      <td>1.000000</td>\n",
       "      <td>-1.000000</td>\n",
       "      <td>0.000000</td>\n",
       "    </tr>\n",
       "    <tr>\n",
       "      <th>50%</th>\n",
       "      <td>39.000000</td>\n",
       "      <td>444.000000</td>\n",
       "      <td>16.000000</td>\n",
       "      <td>185.000000</td>\n",
       "      <td>2.000000</td>\n",
       "      <td>-1.000000</td>\n",
       "      <td>0.000000</td>\n",
       "    </tr>\n",
       "    <tr>\n",
       "      <th>75%</th>\n",
       "      <td>49.000000</td>\n",
       "      <td>1480.000000</td>\n",
       "      <td>21.000000</td>\n",
       "      <td>329.000000</td>\n",
       "      <td>3.000000</td>\n",
       "      <td>-1.000000</td>\n",
       "      <td>0.000000</td>\n",
       "    </tr>\n",
       "    <tr>\n",
       "      <th>max</th>\n",
       "      <td>87.000000</td>\n",
       "      <td>71188.000000</td>\n",
       "      <td>31.000000</td>\n",
       "      <td>3025.000000</td>\n",
       "      <td>50.000000</td>\n",
       "      <td>871.000000</td>\n",
       "      <td>25.000000</td>\n",
       "    </tr>\n",
       "  </tbody>\n",
       "</table>\n",
       "</div>"
      ],
      "text/plain": [
       "               age       balance          day     duration     campaign  \\\n",
       "count  4521.000000   4521.000000  4521.000000  4521.000000  4521.000000   \n",
       "mean     41.170095   1422.657819    15.915284   263.961292     2.793630   \n",
       "std      10.576211   3009.638142     8.247667   259.856633     3.109807   \n",
       "min      19.000000  -3313.000000     1.000000     4.000000     1.000000   \n",
       "25%      33.000000     69.000000     9.000000   104.000000     1.000000   \n",
       "50%      39.000000    444.000000    16.000000   185.000000     2.000000   \n",
       "75%      49.000000   1480.000000    21.000000   329.000000     3.000000   \n",
       "max      87.000000  71188.000000    31.000000  3025.000000    50.000000   \n",
       "\n",
       "             pdays     previous  \n",
       "count  4521.000000  4521.000000  \n",
       "mean     39.766645     0.542579  \n",
       "std     100.121124     1.693562  \n",
       "min      -1.000000     0.000000  \n",
       "25%      -1.000000     0.000000  \n",
       "50%      -1.000000     0.000000  \n",
       "75%      -1.000000     0.000000  \n",
       "max     871.000000    25.000000  "
      ]
     },
     "execution_count": 7,
     "metadata": {},
     "output_type": "execute_result"
    }
   ],
   "source": [
    "Train_df.describe()"
   ]
  },
  {
   "cell_type": "code",
   "execution_count": 8,
   "id": "d91cf137",
   "metadata": {},
   "outputs": [
    {
     "data": {
      "text/plain": [
       "no     4000\n",
       "yes     521\n",
       "Name: y, dtype: int64"
      ]
     },
     "execution_count": 8,
     "metadata": {},
     "output_type": "execute_result"
    }
   ],
   "source": [
    "Train_df[\"y\"].value_counts()"
   ]
  },
  {
   "cell_type": "markdown",
   "id": "d06f5f83",
   "metadata": {},
   "source": [
    "[Go Back](#goback)"
   ]
  },
  {
   "cell_type": "markdown",
   "id": "d88c63dc",
   "metadata": {},
   "source": [
    "## Data Cleaning <a id=\"cleandata\">"
   ]
  },
  {
   "cell_type": "code",
   "execution_count": 6,
   "id": "4a82437b",
   "metadata": {},
   "outputs": [
    {
     "data": {
      "text/plain": [
       "(4521, 17)"
      ]
     },
     "execution_count": 6,
     "metadata": {},
     "output_type": "execute_result"
    }
   ],
   "source": [
    "#Data Cleaning\n",
    "Train_df.shape"
   ]
  },
  {
   "cell_type": "code",
   "execution_count": 9,
   "id": "9fc64aec",
   "metadata": {},
   "outputs": [
    {
     "data": {
      "text/plain": [
       "(4521, 17)"
      ]
     },
     "execution_count": 9,
     "metadata": {},
     "output_type": "execute_result"
    }
   ],
   "source": [
    "#Drop Duplicate Rows\n",
    "# Train_df.shape\n",
    "Train_df.drop_duplicates()\n",
    "Train_df.shape"
   ]
  },
  {
   "cell_type": "code",
   "execution_count": 10,
   "id": "121d073d",
   "metadata": {},
   "outputs": [
    {
     "data": {
      "text/plain": [
       "age          0\n",
       "previous     0\n",
       "pdays        0\n",
       "campaign     0\n",
       "duration     0\n",
       "month        0\n",
       "day          0\n",
       "poutcome     0\n",
       "contact      0\n",
       "housing      0\n",
       "balance      0\n",
       "default      0\n",
       "education    0\n",
       "marital      0\n",
       "job          0\n",
       "loan         0\n",
       "y            0\n",
       "dtype: int64"
      ]
     },
     "execution_count": 10,
     "metadata": {},
     "output_type": "execute_result"
    }
   ],
   "source": [
    "# Null values check\n",
    "Train_df.isnull().sum().sort_values(ascending=True)"
   ]
  },
  {
   "cell_type": "markdown",
   "id": "18f5dbeb",
   "metadata": {},
   "source": [
    "## Dealing with categorical data points <a id=\"encoding\">"
   ]
  },
  {
   "cell_type": "code",
   "execution_count": 11,
   "id": "faf34137",
   "metadata": {},
   "outputs": [
    {
     "name": "stdout",
     "output_type": "stream",
     "text": [
      "(4521, 44) (45211, 44) (4521, 17) (45211, 17)\n"
     ]
    }
   ],
   "source": [
    "list(Train_df.columns.values)\n",
    "# CategoricalVariables=['MONTH']\n",
    "CategoricalVariables=[\"job\",\"marital\",\"education\",\"default\",\"housing\",\"loan\",\"contact\",\"month\",\"poutcome\"]\n",
    "# OneHotEncoding\n",
    "Encoding1=OneHotEncoder(sparse=False,handle_unknown='ignore')\n",
    "# output=Encoding1.fit_transform(Train_df[CategoricalVariables])\n",
    "# output2=Encoding1.fit_transform(Test_df[CategoricalVariables])\n",
    "\n",
    "output=pd.DataFrame(Encoding1.fit_transform(Train_df[CategoricalVariables]),\n",
    "                    columns=Encoding1.get_feature_names_out(),\n",
    "                    index=Train_df.index)\n",
    "output2=pd.DataFrame(Encoding1.fit_transform(Test_df[CategoricalVariables]),\n",
    "                     columns=Encoding1.get_feature_names_out(),\n",
    "                     index=Test_df.index)\n",
    "# Encoding1.get_feature_names_out()\n",
    "print(output.shape,output2.shape,Train_df.shape,Test_df.shape)\n",
    "\n",
    "Encoded_Train_df=pd.concat([Train_df,output],axis=1)\n",
    "Encoded_Test_df=pd.concat([Test_df,output2],axis=1)\n",
    "\n",
    "Mismatch_Columns=list(set(output2.columns)-set(output.columns))\n",
    "\n",
    "#Add these columns to Train Dataset\n",
    "# Encoded_Train_df[Mismatch_Columns]=0"
   ]
  },
  {
   "cell_type": "code",
   "execution_count": 12,
   "id": "4dc51f34",
   "metadata": {},
   "outputs": [
    {
     "name": "stdout",
     "output_type": "stream",
     "text": [
      "[]\n"
     ]
    }
   ],
   "source": [
    "Mismatch_Columns=list(set(output2.columns)-set(output.columns))\n",
    "print(Mismatch_Columns)"
   ]
  },
  {
   "cell_type": "code",
   "execution_count": 13,
   "id": "2200d620",
   "metadata": {},
   "outputs": [
    {
     "name": "stdout",
     "output_type": "stream",
     "text": [
      "(4521, 61) (45211, 61)\n"
     ]
    }
   ],
   "source": [
    "print(Encoded_Train_df.shape,Encoded_Test_df.shape)\n",
    "# Successfully columns are same"
   ]
  },
  {
   "cell_type": "code",
   "execution_count": 14,
   "id": "06501eed",
   "metadata": {},
   "outputs": [
    {
     "name": "stdout",
     "output_type": "stream",
     "text": [
      "(4521, 52) (45211, 52)\n"
     ]
    }
   ],
   "source": [
    "# Remove Categorical Variables as Encoded dataset added\n",
    "Encoded_Train_df=Encoded_Train_df.drop(columns=CategoricalVariables)\n",
    "Encoded_Test_df=Encoded_Test_df.drop(columns=CategoricalVariables)\n",
    "print(Encoded_Train_df.shape,Encoded_Test_df.shape)"
   ]
  },
  {
   "cell_type": "markdown",
   "id": "91e1d9f6",
   "metadata": {},
   "source": [
    "[Go Back](#goback)"
   ]
  },
  {
   "cell_type": "markdown",
   "id": "cb604e9f",
   "metadata": {},
   "source": [
    "## Model Development <a id=\"model\"> </a>"
   ]
  },
  {
   "cell_type": "code",
   "execution_count": 15,
   "id": "b8b567b3",
   "metadata": {},
   "outputs": [],
   "source": [
    "# #Train test Split\n",
    "# XTrain,XTest,YTrain,YTest=train_test_split(TrainX,TrainY,test_size=0.3)\n",
    "\n",
    "#Dividing Dataset into Training and Testing Data\n",
    "TrainX=Encoded_Train_df.drop(columns=\"y\",axis=1).copy()\n",
    "TrainY=Encoded_Train_df[['y']]\n",
    "\n",
    "TestX=Encoded_Test_df.drop(columns=\"y\",axis=1).copy()\n",
    "TestY=Encoded_Test_df[['y']].copy()"
   ]
  },
  {
   "cell_type": "code",
   "execution_count": 14,
   "id": "8055ca2d",
   "metadata": {},
   "outputs": [],
   "source": [
    "# TrainY=Train_df[\"y\"].astype(str)\n",
    "# TrainY=TrainY.apply(str)"
   ]
  },
  {
   "cell_type": "code",
   "execution_count": 16,
   "id": "ac101f90",
   "metadata": {},
   "outputs": [
    {
     "data": {
      "text/html": [
       "<div>\n",
       "<style scoped>\n",
       "    .dataframe tbody tr th:only-of-type {\n",
       "        vertical-align: middle;\n",
       "    }\n",
       "\n",
       "    .dataframe tbody tr th {\n",
       "        vertical-align: top;\n",
       "    }\n",
       "\n",
       "    .dataframe thead th {\n",
       "        text-align: right;\n",
       "    }\n",
       "</style>\n",
       "<table border=\"1\" class=\"dataframe\">\n",
       "  <thead>\n",
       "    <tr style=\"text-align: right;\">\n",
       "      <th></th>\n",
       "      <th>age</th>\n",
       "      <th>balance</th>\n",
       "      <th>day</th>\n",
       "      <th>duration</th>\n",
       "      <th>campaign</th>\n",
       "      <th>pdays</th>\n",
       "      <th>previous</th>\n",
       "      <th>y</th>\n",
       "      <th>job_admin.</th>\n",
       "      <th>job_blue-collar</th>\n",
       "      <th>...</th>\n",
       "      <th>month_jun</th>\n",
       "      <th>month_mar</th>\n",
       "      <th>month_may</th>\n",
       "      <th>month_nov</th>\n",
       "      <th>month_oct</th>\n",
       "      <th>month_sep</th>\n",
       "      <th>poutcome_failure</th>\n",
       "      <th>poutcome_other</th>\n",
       "      <th>poutcome_success</th>\n",
       "      <th>poutcome_unknown</th>\n",
       "    </tr>\n",
       "  </thead>\n",
       "  <tbody>\n",
       "    <tr>\n",
       "      <th>0</th>\n",
       "      <td>30</td>\n",
       "      <td>1787</td>\n",
       "      <td>19</td>\n",
       "      <td>79</td>\n",
       "      <td>1</td>\n",
       "      <td>-1</td>\n",
       "      <td>0</td>\n",
       "      <td>no</td>\n",
       "      <td>0.0</td>\n",
       "      <td>0.0</td>\n",
       "      <td>...</td>\n",
       "      <td>0.0</td>\n",
       "      <td>0.0</td>\n",
       "      <td>0.0</td>\n",
       "      <td>0.0</td>\n",
       "      <td>1.0</td>\n",
       "      <td>0.0</td>\n",
       "      <td>0.0</td>\n",
       "      <td>0.0</td>\n",
       "      <td>0.0</td>\n",
       "      <td>1.0</td>\n",
       "    </tr>\n",
       "    <tr>\n",
       "      <th>1</th>\n",
       "      <td>33</td>\n",
       "      <td>4789</td>\n",
       "      <td>11</td>\n",
       "      <td>220</td>\n",
       "      <td>1</td>\n",
       "      <td>339</td>\n",
       "      <td>4</td>\n",
       "      <td>no</td>\n",
       "      <td>0.0</td>\n",
       "      <td>0.0</td>\n",
       "      <td>...</td>\n",
       "      <td>0.0</td>\n",
       "      <td>0.0</td>\n",
       "      <td>1.0</td>\n",
       "      <td>0.0</td>\n",
       "      <td>0.0</td>\n",
       "      <td>0.0</td>\n",
       "      <td>1.0</td>\n",
       "      <td>0.0</td>\n",
       "      <td>0.0</td>\n",
       "      <td>0.0</td>\n",
       "    </tr>\n",
       "    <tr>\n",
       "      <th>2</th>\n",
       "      <td>35</td>\n",
       "      <td>1350</td>\n",
       "      <td>16</td>\n",
       "      <td>185</td>\n",
       "      <td>1</td>\n",
       "      <td>330</td>\n",
       "      <td>1</td>\n",
       "      <td>no</td>\n",
       "      <td>0.0</td>\n",
       "      <td>0.0</td>\n",
       "      <td>...</td>\n",
       "      <td>0.0</td>\n",
       "      <td>0.0</td>\n",
       "      <td>0.0</td>\n",
       "      <td>0.0</td>\n",
       "      <td>0.0</td>\n",
       "      <td>0.0</td>\n",
       "      <td>1.0</td>\n",
       "      <td>0.0</td>\n",
       "      <td>0.0</td>\n",
       "      <td>0.0</td>\n",
       "    </tr>\n",
       "    <tr>\n",
       "      <th>3</th>\n",
       "      <td>30</td>\n",
       "      <td>1476</td>\n",
       "      <td>3</td>\n",
       "      <td>199</td>\n",
       "      <td>4</td>\n",
       "      <td>-1</td>\n",
       "      <td>0</td>\n",
       "      <td>no</td>\n",
       "      <td>0.0</td>\n",
       "      <td>0.0</td>\n",
       "      <td>...</td>\n",
       "      <td>1.0</td>\n",
       "      <td>0.0</td>\n",
       "      <td>0.0</td>\n",
       "      <td>0.0</td>\n",
       "      <td>0.0</td>\n",
       "      <td>0.0</td>\n",
       "      <td>0.0</td>\n",
       "      <td>0.0</td>\n",
       "      <td>0.0</td>\n",
       "      <td>1.0</td>\n",
       "    </tr>\n",
       "    <tr>\n",
       "      <th>4</th>\n",
       "      <td>59</td>\n",
       "      <td>0</td>\n",
       "      <td>5</td>\n",
       "      <td>226</td>\n",
       "      <td>1</td>\n",
       "      <td>-1</td>\n",
       "      <td>0</td>\n",
       "      <td>no</td>\n",
       "      <td>0.0</td>\n",
       "      <td>1.0</td>\n",
       "      <td>...</td>\n",
       "      <td>0.0</td>\n",
       "      <td>0.0</td>\n",
       "      <td>1.0</td>\n",
       "      <td>0.0</td>\n",
       "      <td>0.0</td>\n",
       "      <td>0.0</td>\n",
       "      <td>0.0</td>\n",
       "      <td>0.0</td>\n",
       "      <td>0.0</td>\n",
       "      <td>1.0</td>\n",
       "    </tr>\n",
       "  </tbody>\n",
       "</table>\n",
       "<p>5 rows × 52 columns</p>\n",
       "</div>"
      ],
      "text/plain": [
       "   age  balance  day  duration  campaign  pdays  previous   y  job_admin.  \\\n",
       "0   30     1787   19        79         1     -1         0  no         0.0   \n",
       "1   33     4789   11       220         1    339         4  no         0.0   \n",
       "2   35     1350   16       185         1    330         1  no         0.0   \n",
       "3   30     1476    3       199         4     -1         0  no         0.0   \n",
       "4   59        0    5       226         1     -1         0  no         0.0   \n",
       "\n",
       "   job_blue-collar  ...  month_jun  month_mar  month_may  month_nov  \\\n",
       "0              0.0  ...        0.0        0.0        0.0        0.0   \n",
       "1              0.0  ...        0.0        0.0        1.0        0.0   \n",
       "2              0.0  ...        0.0        0.0        0.0        0.0   \n",
       "3              0.0  ...        1.0        0.0        0.0        0.0   \n",
       "4              1.0  ...        0.0        0.0        1.0        0.0   \n",
       "\n",
       "   month_oct  month_sep  poutcome_failure  poutcome_other  poutcome_success  \\\n",
       "0        1.0        0.0               0.0             0.0               0.0   \n",
       "1        0.0        0.0               1.0             0.0               0.0   \n",
       "2        0.0        0.0               1.0             0.0               0.0   \n",
       "3        0.0        0.0               0.0             0.0               0.0   \n",
       "4        0.0        0.0               0.0             0.0               0.0   \n",
       "\n",
       "   poutcome_unknown  \n",
       "0               1.0  \n",
       "1               0.0  \n",
       "2               0.0  \n",
       "3               1.0  \n",
       "4               1.0  \n",
       "\n",
       "[5 rows x 52 columns]"
      ]
     },
     "execution_count": 16,
     "metadata": {},
     "output_type": "execute_result"
    }
   ],
   "source": [
    "Encoded_Train_df.head()"
   ]
  },
  {
   "cell_type": "code",
   "execution_count": 17,
   "id": "fc377140",
   "metadata": {},
   "outputs": [
    {
     "data": {
      "text/html": [
       "<style>#sk-container-id-1 {color: black;background-color: white;}#sk-container-id-1 pre{padding: 0;}#sk-container-id-1 div.sk-toggleable {background-color: white;}#sk-container-id-1 label.sk-toggleable__label {cursor: pointer;display: block;width: 100%;margin-bottom: 0;padding: 0.3em;box-sizing: border-box;text-align: center;}#sk-container-id-1 label.sk-toggleable__label-arrow:before {content: \"▸\";float: left;margin-right: 0.25em;color: #696969;}#sk-container-id-1 label.sk-toggleable__label-arrow:hover:before {color: black;}#sk-container-id-1 div.sk-estimator:hover label.sk-toggleable__label-arrow:before {color: black;}#sk-container-id-1 div.sk-toggleable__content {max-height: 0;max-width: 0;overflow: hidden;text-align: left;background-color: #f0f8ff;}#sk-container-id-1 div.sk-toggleable__content pre {margin: 0.2em;color: black;border-radius: 0.25em;background-color: #f0f8ff;}#sk-container-id-1 input.sk-toggleable__control:checked~div.sk-toggleable__content {max-height: 200px;max-width: 100%;overflow: auto;}#sk-container-id-1 input.sk-toggleable__control:checked~label.sk-toggleable__label-arrow:before {content: \"▾\";}#sk-container-id-1 div.sk-estimator input.sk-toggleable__control:checked~label.sk-toggleable__label {background-color: #d4ebff;}#sk-container-id-1 div.sk-label input.sk-toggleable__control:checked~label.sk-toggleable__label {background-color: #d4ebff;}#sk-container-id-1 input.sk-hidden--visually {border: 0;clip: rect(1px 1px 1px 1px);clip: rect(1px, 1px, 1px, 1px);height: 1px;margin: -1px;overflow: hidden;padding: 0;position: absolute;width: 1px;}#sk-container-id-1 div.sk-estimator {font-family: monospace;background-color: #f0f8ff;border: 1px dotted black;border-radius: 0.25em;box-sizing: border-box;margin-bottom: 0.5em;}#sk-container-id-1 div.sk-estimator:hover {background-color: #d4ebff;}#sk-container-id-1 div.sk-parallel-item::after {content: \"\";width: 100%;border-bottom: 1px solid gray;flex-grow: 1;}#sk-container-id-1 div.sk-label:hover label.sk-toggleable__label {background-color: #d4ebff;}#sk-container-id-1 div.sk-serial::before {content: \"\";position: absolute;border-left: 1px solid gray;box-sizing: border-box;top: 0;bottom: 0;left: 50%;z-index: 0;}#sk-container-id-1 div.sk-serial {display: flex;flex-direction: column;align-items: center;background-color: white;padding-right: 0.2em;padding-left: 0.2em;position: relative;}#sk-container-id-1 div.sk-item {position: relative;z-index: 1;}#sk-container-id-1 div.sk-parallel {display: flex;align-items: stretch;justify-content: center;background-color: white;position: relative;}#sk-container-id-1 div.sk-item::before, #sk-container-id-1 div.sk-parallel-item::before {content: \"\";position: absolute;border-left: 1px solid gray;box-sizing: border-box;top: 0;bottom: 0;left: 50%;z-index: -1;}#sk-container-id-1 div.sk-parallel-item {display: flex;flex-direction: column;z-index: 1;position: relative;background-color: white;}#sk-container-id-1 div.sk-parallel-item:first-child::after {align-self: flex-end;width: 50%;}#sk-container-id-1 div.sk-parallel-item:last-child::after {align-self: flex-start;width: 50%;}#sk-container-id-1 div.sk-parallel-item:only-child::after {width: 0;}#sk-container-id-1 div.sk-dashed-wrapped {border: 1px dashed gray;margin: 0 0.4em 0.5em 0.4em;box-sizing: border-box;padding-bottom: 0.4em;background-color: white;}#sk-container-id-1 div.sk-label label {font-family: monospace;font-weight: bold;display: inline-block;line-height: 1.2em;}#sk-container-id-1 div.sk-label-container {text-align: center;}#sk-container-id-1 div.sk-container {/* jupyter's `normalize.less` sets `[hidden] { display: none; }` but bootstrap.min.css set `[hidden] { display: none !important; }` so we also need the `!important` here to be able to override the default hidden behavior on the sphinx rendered scikit-learn.org. See: https://github.com/scikit-learn/scikit-learn/issues/21755 */display: inline-block !important;position: relative;}#sk-container-id-1 div.sk-text-repr-fallback {display: none;}</style><div id=\"sk-container-id-1\" class=\"sk-top-container\"><div class=\"sk-text-repr-fallback\"><pre>DecisionTreeClassifier()</pre><b>In a Jupyter environment, please rerun this cell to show the HTML representation or trust the notebook. <br />On GitHub, the HTML representation is unable to render, please try loading this page with nbviewer.org.</b></div><div class=\"sk-container\" hidden><div class=\"sk-item\"><div class=\"sk-estimator sk-toggleable\"><input class=\"sk-toggleable__control sk-hidden--visually\" id=\"sk-estimator-id-1\" type=\"checkbox\" checked><label for=\"sk-estimator-id-1\" class=\"sk-toggleable__label sk-toggleable__label-arrow\">DecisionTreeClassifier</label><div class=\"sk-toggleable__content\"><pre>DecisionTreeClassifier()</pre></div></div></div></div></div>"
      ],
      "text/plain": [
       "DecisionTreeClassifier()"
      ]
     },
     "execution_count": 17,
     "metadata": {},
     "output_type": "execute_result"
    }
   ],
   "source": [
    "#Decision Tree\n",
    "dt=DecisionTreeClassifier()\n",
    "dt.fit(TrainX,TrainY)"
   ]
  },
  {
   "cell_type": "code",
   "execution_count": 18,
   "id": "74273a17",
   "metadata": {},
   "outputs": [
    {
     "data": {
      "text/html": [
       "<style>#sk-container-id-2 {color: black;background-color: white;}#sk-container-id-2 pre{padding: 0;}#sk-container-id-2 div.sk-toggleable {background-color: white;}#sk-container-id-2 label.sk-toggleable__label {cursor: pointer;display: block;width: 100%;margin-bottom: 0;padding: 0.3em;box-sizing: border-box;text-align: center;}#sk-container-id-2 label.sk-toggleable__label-arrow:before {content: \"▸\";float: left;margin-right: 0.25em;color: #696969;}#sk-container-id-2 label.sk-toggleable__label-arrow:hover:before {color: black;}#sk-container-id-2 div.sk-estimator:hover label.sk-toggleable__label-arrow:before {color: black;}#sk-container-id-2 div.sk-toggleable__content {max-height: 0;max-width: 0;overflow: hidden;text-align: left;background-color: #f0f8ff;}#sk-container-id-2 div.sk-toggleable__content pre {margin: 0.2em;color: black;border-radius: 0.25em;background-color: #f0f8ff;}#sk-container-id-2 input.sk-toggleable__control:checked~div.sk-toggleable__content {max-height: 200px;max-width: 100%;overflow: auto;}#sk-container-id-2 input.sk-toggleable__control:checked~label.sk-toggleable__label-arrow:before {content: \"▾\";}#sk-container-id-2 div.sk-estimator input.sk-toggleable__control:checked~label.sk-toggleable__label {background-color: #d4ebff;}#sk-container-id-2 div.sk-label input.sk-toggleable__control:checked~label.sk-toggleable__label {background-color: #d4ebff;}#sk-container-id-2 input.sk-hidden--visually {border: 0;clip: rect(1px 1px 1px 1px);clip: rect(1px, 1px, 1px, 1px);height: 1px;margin: -1px;overflow: hidden;padding: 0;position: absolute;width: 1px;}#sk-container-id-2 div.sk-estimator {font-family: monospace;background-color: #f0f8ff;border: 1px dotted black;border-radius: 0.25em;box-sizing: border-box;margin-bottom: 0.5em;}#sk-container-id-2 div.sk-estimator:hover {background-color: #d4ebff;}#sk-container-id-2 div.sk-parallel-item::after {content: \"\";width: 100%;border-bottom: 1px solid gray;flex-grow: 1;}#sk-container-id-2 div.sk-label:hover label.sk-toggleable__label {background-color: #d4ebff;}#sk-container-id-2 div.sk-serial::before {content: \"\";position: absolute;border-left: 1px solid gray;box-sizing: border-box;top: 0;bottom: 0;left: 50%;z-index: 0;}#sk-container-id-2 div.sk-serial {display: flex;flex-direction: column;align-items: center;background-color: white;padding-right: 0.2em;padding-left: 0.2em;position: relative;}#sk-container-id-2 div.sk-item {position: relative;z-index: 1;}#sk-container-id-2 div.sk-parallel {display: flex;align-items: stretch;justify-content: center;background-color: white;position: relative;}#sk-container-id-2 div.sk-item::before, #sk-container-id-2 div.sk-parallel-item::before {content: \"\";position: absolute;border-left: 1px solid gray;box-sizing: border-box;top: 0;bottom: 0;left: 50%;z-index: -1;}#sk-container-id-2 div.sk-parallel-item {display: flex;flex-direction: column;z-index: 1;position: relative;background-color: white;}#sk-container-id-2 div.sk-parallel-item:first-child::after {align-self: flex-end;width: 50%;}#sk-container-id-2 div.sk-parallel-item:last-child::after {align-self: flex-start;width: 50%;}#sk-container-id-2 div.sk-parallel-item:only-child::after {width: 0;}#sk-container-id-2 div.sk-dashed-wrapped {border: 1px dashed gray;margin: 0 0.4em 0.5em 0.4em;box-sizing: border-box;padding-bottom: 0.4em;background-color: white;}#sk-container-id-2 div.sk-label label {font-family: monospace;font-weight: bold;display: inline-block;line-height: 1.2em;}#sk-container-id-2 div.sk-label-container {text-align: center;}#sk-container-id-2 div.sk-container {/* jupyter's `normalize.less` sets `[hidden] { display: none; }` but bootstrap.min.css set `[hidden] { display: none !important; }` so we also need the `!important` here to be able to override the default hidden behavior on the sphinx rendered scikit-learn.org. See: https://github.com/scikit-learn/scikit-learn/issues/21755 */display: inline-block !important;position: relative;}#sk-container-id-2 div.sk-text-repr-fallback {display: none;}</style><div id=\"sk-container-id-2\" class=\"sk-top-container\"><div class=\"sk-text-repr-fallback\"><pre>RandomForestClassifier()</pre><b>In a Jupyter environment, please rerun this cell to show the HTML representation or trust the notebook. <br />On GitHub, the HTML representation is unable to render, please try loading this page with nbviewer.org.</b></div><div class=\"sk-container\" hidden><div class=\"sk-item\"><div class=\"sk-estimator sk-toggleable\"><input class=\"sk-toggleable__control sk-hidden--visually\" id=\"sk-estimator-id-2\" type=\"checkbox\" checked><label for=\"sk-estimator-id-2\" class=\"sk-toggleable__label sk-toggleable__label-arrow\">RandomForestClassifier</label><div class=\"sk-toggleable__content\"><pre>RandomForestClassifier()</pre></div></div></div></div></div>"
      ],
      "text/plain": [
       "RandomForestClassifier()"
      ]
     },
     "execution_count": 18,
     "metadata": {},
     "output_type": "execute_result"
    }
   ],
   "source": [
    "# Random Forest\n",
    "rt=RandomForestClassifier()\n",
    "rt.fit(TrainX,TrainY)"
   ]
  },
  {
   "cell_type": "markdown",
   "id": "9882d173",
   "metadata": {},
   "source": [
    "[Go Back](#goback)"
   ]
  },
  {
   "cell_type": "markdown",
   "id": "6cf4a0e6",
   "metadata": {},
   "source": [
    "## Evaluating Default Models <a id=\"evaluate\"> </a>\n",
    "Training file taking as TrainDataset <br>\n",
    "Testing file taking as TestDataset as Y(Target) is given"
   ]
  },
  {
   "cell_type": "code",
   "execution_count": 19,
   "id": "0b3fa622",
   "metadata": {},
   "outputs": [
    {
     "name": "stdout",
     "output_type": "stream",
     "text": [
      "Training Data Accuracy: 1.0\n",
      "\n",
      "Testing Data Accuracy:\n",
      " 0.8838335803233727 \n",
      "Testing_Class_Report:               precision    recall  f1-score   support\n",
      "\n",
      "          no       0.94      0.93      0.93     39922\n",
      "         yes       0.50      0.53      0.52      5289\n",
      "\n",
      "    accuracy                           0.88     45211\n",
      "   macro avg       0.72      0.73      0.73     45211\n",
      "weighted avg       0.89      0.88      0.89     45211\n",
      " \n",
      "Testing_Confusion_Matrix:\n",
      " [[37141  2781]\n",
      " [ 2471  2818]]\n"
     ]
    }
   ],
   "source": [
    "evaluate_model(dt,TrainX,TrainY,TestX,TestY)"
   ]
  },
  {
   "cell_type": "code",
   "execution_count": 20,
   "id": "21312d1e",
   "metadata": {},
   "outputs": [
    {
     "name": "stdout",
     "output_type": "stream",
     "text": [
      "Training Data Accuracy: 1.0\n",
      "\n",
      "Testing Data Accuracy:\n",
      " 0.9117250226714737 \n",
      "Testing_Class_Report:               precision    recall  f1-score   support\n",
      "\n",
      "          no       0.92      0.98      0.95     39922\n",
      "         yes       0.74      0.38      0.50      5289\n",
      "\n",
      "    accuracy                           0.91     45211\n",
      "   macro avg       0.83      0.68      0.73     45211\n",
      "weighted avg       0.90      0.91      0.90     45211\n",
      " \n",
      "Testing_Confusion_Matrix:\n",
      " [[39207   715]\n",
      " [ 3276  2013]]\n"
     ]
    }
   ],
   "source": [
    "evaluate_model(rt,TrainX,TrainY,TestX,TestY)"
   ]
  },
  {
   "cell_type": "markdown",
   "id": "ffae09fe",
   "metadata": {},
   "source": [
    "[Go Back](#goback)"
   ]
  },
  {
   "cell_type": "markdown",
   "id": "6fd84eb1",
   "metadata": {},
   "source": [
    "## Hyperparameter Tuning <a id=\"hyper\"> </a>\n",
    "### Grid Search CV  <a id=\"grid\"> </a>"
   ]
  },
  {
   "cell_type": "code",
   "execution_count": 21,
   "id": "9f8bab6c",
   "metadata": {},
   "outputs": [
    {
     "name": "stdout",
     "output_type": "stream",
     "text": [
      "Best set of parameters for dt:  {'criterion': 'entropy', 'max_depth': 5, 'min_samples_leaf': 30} \n",
      "Best Score :  0.8980306067569549\n",
      "\n",
      "\n",
      "Best set of parameters for rt: {'criterion': 'gini', 'max_depth': 15, 'min_samples_leaf': 10, 'n_estimators': 50} \n",
      "Best score:  0.8962611841783602\n",
      "CPU times: total: 18min 34s\n",
      "Wall time: 18min 36s\n"
     ]
    }
   ],
   "source": [
    "%%time\n",
    "# GridSearchCV : Exhaustive Approach\n",
    "\n",
    "from sklearn.model_selection import GridSearchCV\n",
    "\n",
    "#Decision Tree\n",
    "dt_para_set={'criterion':['gini','entropy'],\n",
    "         'max_depth':range(5,30,5),\n",
    "         'min_samples_leaf':range(10,300,10)}\n",
    "\n",
    "\n",
    "dt_GridSearchCV=GridSearchCV(dt,dt_para_set)\n",
    "dt_GridSearchCV.fit(TrainX,TrainY)\n",
    "print(\"Best set of parameters for dt: \",dt_GridSearchCV.best_params_,\n",
    "      \"\\nBest Score : \",dt_GridSearchCV.best_score_)\n",
    "\n",
    "print()\n",
    "print()\n",
    "\n",
    "#Random Forest\n",
    "rt_para_set={'n_estimators':range(50,200,50),\n",
    "            'criterion':['entropy','gini','log_loss'],\n",
    "            'max_depth':range(5,30,5),\n",
    "            'min_samples_leaf':range(10,300,10)}\n",
    "rt_GridSearchCV=GridSearchCV(rt,rt_para_set)\n",
    "rt_GridSearchCV.fit(TrainX,TrainY)\n",
    "print('Best set of parameters for rt:',rt_GridSearchCV.best_params_,\n",
    "     '\\nBest score: ',rt_GridSearchCV.best_score_)"
   ]
  },
  {
   "cell_type": "code",
   "execution_count": 22,
   "id": "52508445",
   "metadata": {},
   "outputs": [
    {
     "name": "stdout",
     "output_type": "stream",
     "text": [
      "Decision Tree Test Accuracy:  0.8962199464732035\n",
      "RandomForest Test Accuracy: 0.8957554577425848\n"
     ]
    }
   ],
   "source": [
    "#Grid CV Test Accuracy for Decision Tree and Random Forest\n",
    "print('Decision Tree Test Accuracy: ',dt_GridSearchCV.score(TestX,TestY))\n",
    "print('RandomForest Test Accuracy:',rt_GridSearchCV.score(TestX,TestY))"
   ]
  },
  {
   "cell_type": "markdown",
   "id": "e0b72b7b",
   "metadata": {},
   "source": [
    "[Go Back](#goback)"
   ]
  },
  {
   "cell_type": "markdown",
   "id": "dfe92e7c",
   "metadata": {},
   "source": [
    "### Random Search CV  <a id=\"random\"> </a>"
   ]
  },
  {
   "cell_type": "code",
   "execution_count": 23,
   "id": "b483fbd8",
   "metadata": {},
   "outputs": [
    {
     "name": "stdout",
     "output_type": "stream",
     "text": [
      "Best set of parameters for dt:  {'min_samples_leaf': 30, 'max_depth': 15, 'criterion': 'gini'} \n",
      "Best Score :  0.8933877670757345\n",
      "\n",
      "\n",
      "Best set of parameters for rt:  {'n_estimators': 50, 'min_samples_leaf': 10, 'max_depth': 25, 'criterion': 'gini'} \n",
      "Best Score :  0.8942697892729672\n"
     ]
    }
   ],
   "source": [
    "# RandomizedSearchCV : Randomized Approach\n",
    "\n",
    "from sklearn.model_selection import RandomizedSearchCV\n",
    "\n",
    "#Decision Tree\n",
    "dt_RandomizedSearchCV=RandomizedSearchCV(dt,dt_para_set)\n",
    "dt_RandomizedSearchCV.fit(TrainX,TrainY)\n",
    "print(\"Best set of parameters for dt: \",dt_RandomizedSearchCV.best_params_,\n",
    "      \"\\nBest Score : \",dt_RandomizedSearchCV.best_score_)\n",
    "\n",
    "print()\n",
    "print()\n",
    "\n",
    "#Random Forest\n",
    "rt_RandomizedSearchCV=RandomizedSearchCV(rt,rt_para_set)\n",
    "rt_RandomizedSearchCV.fit(TrainX,TrainY)\n",
    "\n",
    "print(\"Best set of parameters for rt: \",rt_RandomizedSearchCV.best_params_,\n",
    "      \"\\nBest Score : \",rt_RandomizedSearchCV.best_score_)"
   ]
  },
  {
   "cell_type": "code",
   "execution_count": 24,
   "id": "92063a3a",
   "metadata": {},
   "outputs": [
    {
     "name": "stdout",
     "output_type": "stream",
     "text": [
      "Decision Tree Test Accuracy:  0.8978788347968415\n",
      "RandomForest Test Accuracy: 0.897392227555241\n"
     ]
    }
   ],
   "source": [
    "#Random CV Test Accuracy for Decision Tree and Random Forest\n",
    "print('Decision Tree Test Accuracy: ',dt_RandomizedSearchCV.score(TestX,TestY))\n",
    "print('RandomForest Test Accuracy:',rt_RandomizedSearchCV.score(TestX,TestY))"
   ]
  },
  {
   "cell_type": "markdown",
   "id": "f85da728",
   "metadata": {},
   "source": [
    "[Go Back](#goback)"
   ]
  },
  {
   "cell_type": "markdown",
   "id": "c1e84fd0",
   "metadata": {},
   "source": [
    "## Model Development with Grid/Random Search  Parameters <a id=\"modeldev\"> </a>"
   ]
  },
  {
   "cell_type": "code",
   "execution_count": 25,
   "id": "1b609ad6",
   "metadata": {},
   "outputs": [
    {
     "name": "stdout",
     "output_type": "stream",
     "text": [
      "DECISION TREE CLASSIFIER\n",
      "Using Grid Search CV \n",
      "\n",
      "Training Data Accuracy: 0.9073213890732139\n",
      "\n",
      "Testing Data Accuracy:\n",
      " 0.8962199464732035 \n",
      "Testing_Class_Report:               precision    recall  f1-score   support\n",
      "\n",
      "          no       0.91      0.98      0.94     39922\n",
      "         yes       0.62      0.29      0.40      5289\n",
      "\n",
      "    accuracy                           0.90     45211\n",
      "   macro avg       0.77      0.64      0.67     45211\n",
      "weighted avg       0.88      0.90      0.88     45211\n",
      " \n",
      "Testing_Confusion_Matrix:\n",
      " [[38959   963]\n",
      " [ 3729  1560]]\n",
      "-------------------------------------------------------------------------------------------------\n",
      "Using Random Search CV \n",
      "\n",
      "Training Data Accuracy: 0.9108604291086043\n",
      "\n",
      "Testing Data Accuracy:\n",
      " 0.8978788347968415 \n",
      "Testing_Class_Report:               precision    recall  f1-score   support\n",
      "\n",
      "          no       0.92      0.97      0.94     39922\n",
      "         yes       0.60      0.39      0.47      5289\n",
      "\n",
      "    accuracy                           0.90     45211\n",
      "   macro avg       0.76      0.68      0.71     45211\n",
      "weighted avg       0.88      0.90      0.89     45211\n",
      " \n",
      "Testing_Confusion_Matrix:\n",
      " [[38556  1366]\n",
      " [ 3251  2038]]\n"
     ]
    }
   ],
   "source": [
    "#Using Grid and Random Search CV parameters for modelling\n",
    "#Decision Tree\n",
    "\n",
    "dt_using_Grid=DecisionTreeClassifier(**dt_GridSearchCV.best_params_)\n",
    "dt_using_Grid.fit(TrainX,TrainY)\n",
    "dt_using_Rand=DecisionTreeClassifier(**dt_RandomizedSearchCV.best_params_)\n",
    "dt_using_Rand.fit(TrainX,TrainY)\n",
    "\n",
    "print(\"DECISION TREE CLASSIFIER\")\n",
    "print(\"Using Grid Search CV \\n\")\n",
    "evaluate_model(dt_using_Grid,TrainX,TrainY,TestX,TestY)\n",
    "print(\"-------------------------------------------------------------------------------------------------\")\n",
    "print(\"Using Random Search CV \\n\")\n",
    "evaluate_model(dt_using_Rand,TrainX,TrainY,TestX,TestY)\n"
   ]
  },
  {
   "cell_type": "code",
   "execution_count": 26,
   "id": "51d06d66",
   "metadata": {},
   "outputs": [
    {
     "name": "stdout",
     "output_type": "stream",
     "text": [
      "RANDOM FOREST CLASSIFIER\n",
      "Using Grid Search CV \n",
      "\n",
      "Training Data Accuracy: 0.9075425790754258\n",
      "\n",
      "Testing Data Accuracy:\n",
      " 0.8973701090442592 \n",
      "Testing_Class_Report:               precision    recall  f1-score   support\n",
      "\n",
      "          no       0.90      0.99      0.94     39922\n",
      "         yes       0.75      0.18      0.29      5289\n",
      "\n",
      "    accuracy                           0.90     45211\n",
      "   macro avg       0.83      0.59      0.62     45211\n",
      "weighted avg       0.88      0.90      0.87     45211\n",
      " \n",
      "Testing_Confusion_Matrix:\n",
      " [[39607   315]\n",
      " [ 4325   964]]\n",
      "-------------------------------------------------------------------------------------------------\n",
      "Using Random Search CV \n",
      "\n",
      "Training Data Accuracy: 0.90687900906879\n",
      "\n",
      "Testing Data Accuracy:\n",
      " 0.8984317975713875 \n",
      "Testing_Class_Report:               precision    recall  f1-score   support\n",
      "\n",
      "          no       0.90      0.99      0.95     39922\n",
      "         yes       0.77      0.19      0.30      5289\n",
      "\n",
      "    accuracy                           0.90     45211\n",
      "   macro avg       0.83      0.59      0.62     45211\n",
      "weighted avg       0.89      0.90      0.87     45211\n",
      " \n",
      "Testing_Confusion_Matrix:\n",
      " [[39615   307]\n",
      " [ 4285  1004]]\n"
     ]
    }
   ],
   "source": [
    "#Using Grid and Random Search CV parameters for modelling\n",
    "#Random Forest\n",
    "rt_using_Grid=RandomForestClassifier(**rt_GridSearchCV.best_params_)\n",
    "rt_using_Grid.fit(TrainX,TrainY)\n",
    "rt_using_Rand=RandomForestClassifier(**rt_RandomizedSearchCV.best_params_)\n",
    "rt_using_Rand.fit(TrainX,TrainY)\n",
    "\n",
    "print(\"RANDOM FOREST CLASSIFIER\")\n",
    "print(\"Using Grid Search CV \\n\")\n",
    "evaluate_model(rt_using_Grid,TrainX,TrainY,TestX,TestY)\n",
    "print(\"-------------------------------------------------------------------------------------------------\")\n",
    "print(\"Using Random Search CV \\n\")\n",
    "evaluate_model(rt_using_Rand,TrainX,TrainY,TestX,TestY)"
   ]
  },
  {
   "cell_type": "markdown",
   "id": "34d986fb",
   "metadata": {},
   "source": [
    "[Go Back](#goback)"
   ]
  },
  {
   "cell_type": "code",
   "execution_count": 27,
   "id": "0098efbb",
   "metadata": {},
   "outputs": [
    {
     "data": {
      "image/png": "[encoded data removed]",
      "text/plain": [
       "<Figure size 864x576 with 1 Axes>"
      ]
     },
     "metadata": {
      "needs_background": "light"
     },
     "output_type": "display_data"
    }
   ],
   "source": [
    "# Estimated ROC Curves by transforming dataset into 0,1\n",
    "Trail=TestY\n",
    "Trail=Trail.replace(to_replace=['no','yes'],value=[0,1])\n",
    "\n",
    "PredY=dt.predict_proba(TestX)[:,1]\n",
    "fpr1, tpr1, _ = metrics.roc_curve(Trail,PredY)\n",
    "\n",
    "PredY=rt.predict_proba(TestX)[:,1]\n",
    "fpr2, tpr2, _ = metrics.roc_curve(Trail,PredY)\n",
    "\n",
    "PredY=dt_using_Grid.predict_proba(TestX)[:,1]\n",
    "fpr3, tpr3, _ = metrics.roc_curve(Trail,PredY)\n",
    "\n",
    "PredY=dt_using_Rand.predict_proba(TestX)[:,1]\n",
    "fpr4, tpr4, _ = metrics.roc_curve(Trail,PredY)\n",
    "\n",
    "PredY=rt_using_Grid.predict_proba(TestX)[:,1]\n",
    "fpr5, tpr5, _ = metrics.roc_curve(Trail,PredY)\n",
    "\n",
    "PredY=rt_using_Rand.predict_proba(TestX)[:,1]\n",
    "fpr6, tpr6, _ = metrics.roc_curve(Trail,PredY)\n",
    "\n",
    "plt.figure(figsize=(12,8))\n",
    "plt.plot(fpr1, tpr1,label=\"Default decision tree\")\n",
    "plt.plot(fpr2, tpr2,label=\"Default random forest\")\n",
    "plt.plot(fpr3, tpr3,label=\"GridCV decision tree\")\n",
    "plt.plot(fpr4, tpr4,label=\"RandomizedCV decision tree\")\n",
    "plt.plot(fpr5, tpr5,label=\"GridCV random forest\")\n",
    "plt.plot(fpr6, tpr6,label=\"RandomizedCV random forest\")\n",
    "plt.xlabel('FPR')\n",
    "plt.ylabel('TPR')\n",
    "plt.title('ROC curve for multiple models')\n",
    "plt.legend()\n",
    "\n",
    "plt.show()"
   ]
  },
  {
   "cell_type": "markdown",
   "id": "399d5ad1",
   "metadata": {},
   "source": [
    "![marketing](marketing2.png)"
   ]
  },
  {
   "cell_type": "markdown",
   "id": "95138406",
   "metadata": {},
   "source": [
    "Using the default model, we will be able to predict the outcomes better as Precision value is the best. <br>\n",
    "Precision is the **True Positives/(True Positives + False Positives)** <br>\n",
    "The company should focus on geting minimum False positive value, as they could be potential customers which might lead to a term deposit at Portuguese Bank. Getting higher False Positive values can decerease the scope of Direct marketing to potential customers."
   ]
  }
 ],
 "metadata": {
  "kernelspec": {
   "display_name": "Python 3 (ipykernel)",
   "language": "python",
   "name": "python3"
  },
  "language_info": {
   "codemirror_mode": {
    "name": "ipython",
    "version": 3
   },
   "file_extension": ".py",
   "mimetype": "text/x-python",
   "name": "python",
   "nbconvert_exporter": "python",
   "pygments_lexer": "ipython3",
   "version": "3.9.12"
  }
 },
 "nbformat": 4,
 "nbformat_minor": 5
}
